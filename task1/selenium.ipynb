{
 "cells": [
  {
   "cell_type": "code",
   "execution_count": 1,
   "metadata": {},
   "outputs": [],
   "source": [
    "import selenium\n",
    "from selenium import webdriver\n",
    "\n",
    "# from selenium.webdriver.Chrome import find_element_by_xpath\n",
    "from selenium.webdriver import ActionChains\n",
    "# interactions.Actions;\n",
    "# import selenium.common\n",
    "# import org.openqa.selenium.WebDriver; \n",
    "# import org.openqa.selenium.chrome.ChromeDriver;"
   ]
  },
  {
   "cell_type": "code",
   "execution_count": 2,
   "metadata": {},
   "outputs": [
    {
     "data": {
      "text/plain": [
       "'/home/yunus/del/task_submission/task1/index.html'"
      ]
     },
     "execution_count": 2,
     "metadata": {},
     "output_type": "execute_result"
    }
   ],
   "source": [
    "\"/home/yunus/del/task_submission/task1/index.html\"\n",
    "# dir(selenium.webdriver.Chrome)\n",
    "# selenium.interactions"
   ]
  },
  {
   "cell_type": "code",
   "execution_count": 3,
   "metadata": {},
   "outputs": [
    {
     "name": "stdout",
     "output_type": "stream",
     "text": [
      "['D10.11', 'F19.10', 'B10.2', 'E24.9', 'A10.2', 'J92.9']\n",
      "6 D10.11\n",
      "7 F19.10\n",
      "4 B10.2\n",
      "1 E24.9\n",
      "3 A10.2\n",
      "2 J92.9\n"
     ]
    }
   ],
   "source": [
    "options = webdriver.ChromeOptions()\n",
    "options.add_argument('--ignore-certificate-errors')\n",
    "options.add_argument(\"--test-type\")\n",
    "# options.binary_location = \"/usr/bin/chromium-driver\"\n",
    "options.binary_location = \"/home/yunus/del/task2/chromedriver\"\n",
    "\n",
    "options.add_argument(\"start-maximized\"); #// open Browser in maximized mode\n",
    "options.add_argument(\"disable-infobars\"); #// disabling infobars\n",
    "options.add_argument(\"--disable-extensions\"); #// disabling extensions\n",
    "options.add_argument(\"--disable-gpu\"); # applicable to windows os only\n",
    "options.add_argument(\"--disable-dev-shm-usage\"); # overcome limited resource problems\n",
    "options.add_argument(\"--no-sandbox\"); # Bypass OS security model\n",
    "options.add_argument('--headless')\n",
    "options.add_argument(\"--remote-debugging-port=9222\")  # this\n",
    "\n",
    "\n",
    "driver = webdriver.Chrome()\n",
    "driver.get('file:/home/yunus/del/task_submission/task1/index.html')\n",
    "# getText1 = driver.find_elements_by_xpath('//*[@id=\"sortable\"]/tr[*]/td[3]')\n",
    "# dir(getText1)\n",
    "# li =[]\n",
    "# for i in getText1:\n",
    "#     li.append(i.text)\n",
    "# li\n",
    "\n",
    "# source = '//*[@id=\"sortable\"]/tr[6]/td[1]'\n",
    "# source = driver.find_element_by_xpath(source)\n",
    "\n",
    "# target = '//*[@id=\"sortable\"]/tr[1]/td[1]'\n",
    "# target = driver.find_element_by_xpath(target)\n",
    "\n",
    "# action_chains = ActionChains(driver)\n",
    "# action_chains.drag_and_drop(source, target).perform()\n",
    "\n",
    "getText1 = driver.find_elements_by_xpath('//*[@id=\"sortable\"]/tr[*]/td[3]')\n",
    "dir(getText1)\n",
    "li =[]\n",
    "jab_code_order =['J92.9','A10.2','E24.9','B10.2','F19.10','D10.11']\n",
    "jab_code_order = jab_code_order[::-1]\n",
    "print(jab_code_order)\n",
    "\n",
    "#contains text of elemts\n",
    "find_ele = []\n",
    "for i in getText1:\n",
    "    find_ele.append(i.text)\n",
    "\n",
    "def find_e(driver , i):\n",
    "    getText1 = driver.find_elements_by_xpath('//*[@id=\"sortable\"]/tr[*]/td[3]')\n",
    "    li = []\n",
    "    for j in getText1:\n",
    "        li.append(j.text)\n",
    "    return li.index(i)+1\n",
    "        \n",
    "    \n",
    "    \n",
    "for i in jab_code_order:\n",
    "#     li.append(i.text)\n",
    "    print(str(find_ele.index(i)+1) , i)\n",
    "#     source = '//*[@id=\"sortable\"]/tr['+str(find_ele.index(i)+1) +']/td[1]'\n",
    "    source = '//*[@id=\"sortable\"]/tr['+ str(find_e(driver,i))+']/td[1]'\n",
    "    find_e\n",
    "    \n",
    "    source = driver.find_element_by_xpath(source)\n",
    "\n",
    "    target = '//*[@id=\"sortable\"]/tr[1]/td[1]'\n",
    "    target = driver.find_element_by_xpath(target)\n",
    "\n",
    "    action_chains = ActionChains(driver)\n",
    "    action_chains.drag_and_drop(source, target).perform()"
   ]
  },
  {
   "cell_type": "code",
   "execution_count": null,
   "metadata": {},
   "outputs": [],
   "source": []
  },
  {
   "cell_type": "code",
   "execution_count": null,
   "metadata": {},
   "outputs": [],
   "source": []
  },
  {
   "cell_type": "code",
   "execution_count": 91,
   "metadata": {},
   "outputs": [],
   "source": [
    "# driver.get(\"file:///D:/folder/abcd.html\");\n",
    "# selenium = WebDriverBackedSelenium(driver,\"file:///D:/folder/abcd.html\")"
   ]
  },
  {
   "cell_type": "code",
   "execution_count": 92,
   "metadata": {},
   "outputs": [],
   "source": [
    "# \"//*[@id=\"sortable\"]/tr[1]/td[3]\"\n",
    "# \"//*[@id=\"sortable\"]/tr[8]/td[3]\"\n",
    "# .then(span => span.getText())\n",
    "# getText = driver.findElement(By.xpath(\"your xpath\")).getText()"
   ]
  }
 ],
 "metadata": {
  "kernelspec": {
   "display_name": "Python 3",
   "language": "python",
   "name": "python3"
  },
  "language_info": {
   "codemirror_mode": {
    "name": "ipython",
    "version": 3
   },
   "file_extension": ".py",
   "mimetype": "text/x-python",
   "name": "python",
   "nbconvert_exporter": "python",
   "pygments_lexer": "ipython3",
   "version": "3.7.7"
  }
 },
 "nbformat": 4,
 "nbformat_minor": 4
}
