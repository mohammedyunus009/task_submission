{
 "cells": [
  {
   "cell_type": "code",
   "execution_count": 3,
   "metadata": {},
   "outputs": [],
   "source": [
    "import cv2 \n",
    "import pytesseract \n",
    "\n",
    "import ghostscript\n",
    "import locale\n",
    "\n",
    "\n",
    "import os\n",
    "import io\n",
    "import uuid\n",
    "import logging\n",
    "\n",
    "\n",
    "from PyPDF2 import PdfFileReader, PdfFileWriter\n",
    "from wand.image import Image\n",
    "import img2pdf\n",
    "import csv\n",
    "\n",
    "# Mention the installed location of Tesseract-OCR in your system \n",
    "# pytesseract.pytesseract.tesseract_cmd = 'System_path_to_tesseract.exe'\n",
    "\n",
    "# Read image from which text needs to be extracted \n",
    "# img = cv2.imread(\"/home/yunus/flask_iqvia/TASK2.png\") \n",
    "csv_path = '/home/yunus/del/task_submission/task2/out.csv'\n",
    "\n",
    "src = \"/home/yunus/del/task_submission/task2/atlassian-git-cheatsheet.pdf\"\n",
    "dest = \"/home/yunus/del/task_submission/task2/jpeg_test\"\n"
   ]
  },
  {
   "cell_type": "code",
   "execution_count": 15,
   "metadata": {},
   "outputs": [],
   "source": [
    "##Step 1 : Convert pdf to Imges and save into jpeg_test folder"
   ]
  },
  {
   "cell_type": "code",
   "execution_count": 4,
   "metadata": {},
   "outputs": [
    {
     "name": "stderr",
     "output_type": "stream",
     "text": [
      "PdfReadWarning: Xref table not zero-indexed. ID numbers for objects will be corrected. [pdf.py:1736]\n"
     ]
    },
    {
     "data": {
      "text/plain": [
       "['/home/yunus/flask_iqvia/tmp/page-1-290423ab7f3744ddbb4637d757c7a8b2.png',\n",
       " '/home/yunus/flask_iqvia/tmp/page-2-d673d91a885f4115b80a2f33d9ebe3ff.png']"
      ]
     },
     "execution_count": 4,
     "metadata": {},
     "output_type": "execute_result"
    }
   ],
   "source": [
    "\n",
    "def convert(src, dest):\n",
    "\n",
    "    # specify paper size (A4)\n",
    "    a4inpt = (img2pdf.mm_to_pt(210), img2pdf.mm_to_pt(297))\n",
    "    layout_fun = img2pdf.get_layout_fun(a4inpt)\n",
    "\n",
    "    src_pdf = PdfFileReader(src)\n",
    "    num_pages = src_pdf.getNumPages()\n",
    "\n",
    "    imgs = []\n",
    "    for i in range(num_pages):\n",
    "        filename = \"/home/yunus/flask_iqvia/tmp/page-%s-%s.png\" % (i + 1, uuid.uuid4().hex)\n",
    "        imgs.append(filename)\n",
    "\n",
    "        pdf2img(src_pdf, i, filename)\n",
    "    return imgs\n",
    "            \n",
    "            \n",
    "\n",
    "def pdf2img(src_pdf, pagenum=0, filename=\"filename\", resolution=600):\n",
    "    dst_pdf = PdfFileWriter()\n",
    "    dst_pdf.addPage(src_pdf.getPage(pagenum))\n",
    "\n",
    "    pdf_bytes = io.BytesIO()\n",
    "    dst_pdf.write(pdf_bytes)\n",
    "    pdf_bytes.seek(0)\n",
    "\n",
    "    with Image(file=pdf_bytes, resolution=resolution) as img:\n",
    "        img.convert(\"png\")\n",
    "        img.save(filename=filename)\n",
    "    \n",
    "\n",
    "    \n",
    "#     \"/home/yunus/flask_iqvia/jpeg_test/a.jpeg\",\n",
    "# pdf2img(src,filename=dest)\n",
    "imgs_path = convert(src,dest)\n",
    "imgs_path"
   ]
  },
  {
   "cell_type": "code",
   "execution_count": null,
   "metadata": {},
   "outputs": [],
   "source": [
    "## Step 2 Convert into "
   ]
  },
  {
   "cell_type": "code",
   "execution_count": null,
   "metadata": {},
   "outputs": [],
   "source": [
    "\n",
    "for im_p in imgs_path:\n",
    "    \n",
    "    img = cv2.imread(im_p) \n",
    "    gray = cv2.cvtColor(img, cv2.COLOR_BGR2GRAY)\n",
    "\n",
    "    # Performing OTSU threshold \n",
    "    ret, thresh1 = cv2.threshold(gray, 0, 255, cv2.THRESH_OTSU | cv2.THRESH_BINARY_INV) \n",
    "\n",
    "    # Specify structure shape and kernel size.\n",
    "    # Kernel size increases or decreases the area\n",
    "    # of the rectangle to be detected.\n",
    "    # A smaller value like (10, 10) will detect \n",
    "    # each word instead of a sentence. \n",
    "    rect_kernel = cv2.getStructuringElement(cv2.MORPH_RECT, (18, 18)) \n",
    "\n",
    "    # Appplying dilation on the threshold image (MAKING WIDER)\n",
    "    dilation = cv2.dilate(thresh1, rect_kernel, iterations = 1) \n",
    "\n",
    "    # Finding contours (DETECTING BOUNDRIES )\n",
    "    contours, hierarchy = cv2.findContours(dilation, cv2.RETR_EXTERNAL, \n",
    "                                                    cv2.CHAIN_APPROX_NONE) \n",
    "\n",
    "    # Creating a copy of image \n",
    "    im2 = img.copy() \n",
    "    li=[]\n",
    "    for cnt in contours: \n",
    "        x, y, w, h = cv2.boundingRect(cnt)\n",
    "        # Drawing a rectangle on copied image\n",
    "        rect = cv2.rectangle(im2, (x, y), (x + w, y + h), (0, 255, 0), 2)\n",
    "        # Cropping the text block for giving input to OCR\n",
    "        cropped = im2[y:y + h, x:x + w]\n",
    "\n",
    "        # Open the file in append mode \n",
    "\n",
    "        # Apply OCR on the cropped image\n",
    "        text = pytesseract.image_to_string(cropped) \n",
    "        li.append(text)\n",
    "#     print(str(li))\n",
    "    with open(csv_path, 'a') as csvfile:\n",
    "        csvfile.write( ' '.join(map(str, li)) )"
   ]
  },
  {
   "cell_type": "code",
   "execution_count": null,
   "metadata": {},
   "outputs": [],
   "source": []
  },
  {
   "cell_type": "code",
   "execution_count": null,
   "metadata": {},
   "outputs": [],
   "source": []
  },
  {
   "cell_type": "code",
   "execution_count": null,
   "metadata": {},
   "outputs": [],
   "source": []
  },
  {
   "cell_type": "code",
   "execution_count": null,
   "metadata": {},
   "outputs": [],
   "source": []
  },
  {
   "cell_type": "code",
   "execution_count": null,
   "metadata": {},
   "outputs": [],
   "source": []
  }
 ],
 "metadata": {
  "kernelspec": {
   "display_name": "Python 3",
   "language": "python",
   "name": "python3"
  },
  "language_info": {
   "codemirror_mode": {
    "name": "ipython",
    "version": 3
   },
   "file_extension": ".py",
   "mimetype": "text/x-python",
   "name": "python",
   "nbconvert_exporter": "python",
   "pygments_lexer": "ipython3",
   "version": "3.7.7"
  }
 },
 "nbformat": 4,
 "nbformat_minor": 4
}
